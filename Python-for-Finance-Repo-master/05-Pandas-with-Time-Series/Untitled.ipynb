{
 "cells": [
  {
   "cell_type": "code",
   "execution_count": 1,
   "metadata": {},
   "outputs": [],
   "source": [
    "import numpy as np\n",
    "import pandas as pd\n",
    "import matplotlib.pyplot as plt\n",
    "import random "
   ]
  },
  {
   "cell_type": "code",
   "execution_count": 3,
   "metadata": {},
   "outputs": [
    {
     "ename": "SyntaxError",
     "evalue": "invalid syntax (<ipython-input-3-43e7de95ceb5>, line 1)",
     "output_type": "error",
     "traceback": [
      "\u001b[1;36m  File \u001b[1;32m\"<ipython-input-3-43e7de95ceb5>\"\u001b[1;36m, line \u001b[1;32m1\u001b[0m\n\u001b[1;33m    //on demand\u001b[0m\n\u001b[1;37m    ^\u001b[0m\n\u001b[1;31mSyntaxError\u001b[0m\u001b[1;31m:\u001b[0m invalid syntax\n"
     ]
    }
   ],
   "source": [
    "//on demand "
   ]
  },
  {
   "cell_type": "code",
   "execution_count": 4,
   "metadata": {},
   "outputs": [],
   "source": [
    "#on demand"
   ]
  },
  {
   "cell_type": "code",
   "execution_count": 5,
   "metadata": {},
   "outputs": [],
   "source": [
    "#Hangman no code attempt one "
   ]
  },
  {
   "cell_type": "code",
   "execution_count": 2,
   "metadata": {},
   "outputs": [],
   "source": [
    "lives_remaining = 10\n",
    "x = 0\n",
    "guessed_letters = ''\n",
    "\n",
    "word_list = ['snake','apple','butter', 'chaos']\n",
    "\n",
    "def play():\n",
    "    word = pick_a_word()\n",
    "    while True:\n",
    "        guess = get_guess(word)\n",
    "        if process_guess(guess, word):\n",
    "            print('Win')\n",
    "            break\n",
    "        if lives_remaining == 0:\n",
    "            print('dead')\n",
    "            print('word was' + word)\n",
    "            break\n",
    "            \n",
    "def pick_a_word():\n",
    "    word_position = random.randint(0, len(words) -1)\n",
    "    return words[word_position]\n",
    "\n",
    "def get_guess(word):\n",
    "    print_word_with_blanks(word)\n",
    "    print('Lives left' + str(lives_remaining))\n",
    "    guess = input('Guess letter or word')\n",
    "    return guess\n",
    "\n",
    "def print_word_wit_blanks(word):\n",
    "    display_word = ''\n",
    "    for letter in word:\n",
    "        if guessed_letters.find(letter) > -1:\n",
    "            #letter found\n",
    "            display_word = display_word + letter\n",
    "        else:\n",
    "            #letter not found\n",
    "            display_word = display_word + '-'\n",
    "    print(display_word)\n",
    "    \n",
    "\n",
    "        \n",
    "\n",
    "        \n",
    "    "
   ]
  },
  {
   "cell_type": "code",
   "execution_count": null,
   "metadata": {},
   "outputs": [],
   "source": []
  }
 ],
 "metadata": {
  "kernelspec": {
   "display_name": "Python 3",
   "language": "python",
   "name": "python3"
  },
  "language_info": {
   "codemirror_mode": {
    "name": "ipython",
    "version": 3
   },
   "file_extension": ".py",
   "mimetype": "text/x-python",
   "name": "python",
   "nbconvert_exporter": "python",
   "pygments_lexer": "ipython3",
   "version": "3.8.3"
  }
 },
 "nbformat": 4,
 "nbformat_minor": 4
}
