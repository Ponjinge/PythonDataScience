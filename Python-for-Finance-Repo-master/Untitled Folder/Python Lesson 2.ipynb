{
 "cells": [
  {
   "cell_type": "code",
   "execution_count": 1,
   "metadata": {},
   "outputs": [],
   "source": [
    "#Exercice 1 - 1)"
   ]
  },
  {
   "cell_type": "code",
   "execution_count": 43,
   "metadata": {},
   "outputs": [],
   "source": [
    "#Exercice 1.2"
   ]
  },
  {
   "cell_type": "code",
   "execution_count": 45,
   "metadata": {},
   "outputs": [],
   "source": [
    "#Fonction qui prend une liste de quadruplets (nom,prenom,année,profession) et créer un dictionnaire indexé par un couple nom prénom et qui liste année et profession pour chaque entrée. Si le même nom et prénom apparait plusieurs fois, on n’enregistre que la première valeur rencontrée."
   ]
  },
  {
   "cell_type": "code",
   "execution_count": 46,
   "metadata": {},
   "outputs": [],
   "source": [
    " l = [(\"to\",\"to\",2019,\"chef\"),(\"ti\",\"ti\",2020,\"chef\"),(\"to\",\"to\",2014,\"employé\")]"
   ]
  },
  {
   "cell_type": "code",
   "execution_count": 47,
   "metadata": {},
   "outputs": [],
   "source": [
    "dict = {}"
   ]
  },
  {
   "cell_type": "code",
   "execution_count": 68,
   "metadata": {},
   "outputs": [
    {
     "ename": "TypeError",
     "evalue": "unsupported operand type(s) for +: 'int' and 'str'",
     "output_type": "error",
     "traceback": [
      "\u001b[1;31m---------------------------------------------------------------------------\u001b[0m",
      "\u001b[1;31mTypeError\u001b[0m                                 Traceback (most recent call last)",
      "\u001b[1;32m<ipython-input-68-4de1785d4f7f>\u001b[0m in \u001b[0;36m<module>\u001b[1;34m\u001b[0m\n\u001b[0;32m      1\u001b[0m \u001b[0mi\u001b[0m\u001b[1;33m=\u001b[0m\u001b[1;36m0\u001b[0m\u001b[1;33m\u001b[0m\u001b[1;33m\u001b[0m\u001b[0m\n\u001b[0;32m      2\u001b[0m \u001b[1;32mwhile\u001b[0m \u001b[0mi\u001b[0m \u001b[1;33m<\u001b[0m \u001b[1;36m2\u001b[0m\u001b[1;33m:\u001b[0m\u001b[1;33m\u001b[0m\u001b[1;33m\u001b[0m\u001b[0m\n\u001b[1;32m----> 3\u001b[1;33m     \u001b[0mdict\u001b[0m\u001b[1;33m.\u001b[0m\u001b[0mupdate\u001b[0m\u001b[1;33m(\u001b[0m\u001b[1;33m{\u001b[0m\u001b[1;33m(\u001b[0m\u001b[1;33m(\u001b[0m\u001b[0ml\u001b[0m\u001b[1;33m[\u001b[0m\u001b[0mi\u001b[0m\u001b[1;33m]\u001b[0m\u001b[1;33m[\u001b[0m\u001b[1;36m0\u001b[0m\u001b[1;33m]\u001b[0m\u001b[1;33m)\u001b[0m\u001b[1;33m+\u001b[0m\u001b[1;33m(\u001b[0m\u001b[0ml\u001b[0m\u001b[1;33m[\u001b[0m\u001b[0mi\u001b[0m\u001b[1;33m]\u001b[0m\u001b[1;33m[\u001b[0m\u001b[1;36m0\u001b[0m\u001b[1;33m]\u001b[0m\u001b[1;33m)\u001b[0m\u001b[1;33m)\u001b[0m\u001b[1;33m:\u001b[0m\u001b[1;33m(\u001b[0m\u001b[1;33m(\u001b[0m\u001b[0ml\u001b[0m\u001b[1;33m[\u001b[0m\u001b[0mi\u001b[0m\u001b[1;33m]\u001b[0m\u001b[1;33m[\u001b[0m\u001b[1;36m2\u001b[0m\u001b[1;33m]\u001b[0m\u001b[1;33m)\u001b[0m\u001b[1;33m+\u001b[0m\u001b[1;33m(\u001b[0m\u001b[0ml\u001b[0m\u001b[1;33m[\u001b[0m\u001b[0mi\u001b[0m\u001b[1;33m]\u001b[0m\u001b[1;33m[\u001b[0m\u001b[1;36m0\u001b[0m\u001b[1;33m]\u001b[0m\u001b[1;33m)\u001b[0m\u001b[1;33m)\u001b[0m\u001b[1;33m}\u001b[0m\u001b[1;33m)\u001b[0m\u001b[1;33m\u001b[0m\u001b[1;33m\u001b[0m\u001b[0m\n\u001b[0m\u001b[0;32m      4\u001b[0m     \u001b[0mi\u001b[0m\u001b[1;33m+=\u001b[0m\u001b[1;36m1\u001b[0m\u001b[1;33m\u001b[0m\u001b[1;33m\u001b[0m\u001b[0m\n\u001b[0;32m      5\u001b[0m \u001b[0mprint\u001b[0m\u001b[1;33m(\u001b[0m\u001b[0mdict\u001b[0m\u001b[1;33m)\u001b[0m\u001b[1;33m\u001b[0m\u001b[1;33m\u001b[0m\u001b[0m\n",
      "\u001b[1;31mTypeError\u001b[0m: unsupported operand type(s) for +: 'int' and 'str'"
     ]
    }
   ],
   "source": [
    "i=0\n",
    "while i < 2:\n",
    "    dict.update({((l[i][0])+(l[i][0])):((l[i][2])+(l[i][0]))})\n",
    "    i+=1\n",
    "print(dict)  "
   ]
  },
  {
   "cell_type": "code",
   "execution_count": 59,
   "metadata": {},
   "outputs": [
    {
     "data": {
      "text/plain": [
       "{2: [(1, 1)],\n",
       " 3: [(1, 2), (2, 1)],\n",
       " 4: [(1, 3), (2, 2), (3, 1)],\n",
       " 5: [(1, 4), (2, 3), (3, 2), (4, 1)],\n",
       " 6: [(1, 5), (2, 4), (3, 3), (4, 2), (5, 1)],\n",
       " 7: [(1, 6), (2, 5), (3, 4), (4, 3), (5, 2), (6, 1)],\n",
       " 8: [(2, 6), (3, 5), (4, 4), (5, 3), (6, 2)],\n",
       " 9: [(3, 6), (4, 5), (5, 4), (6, 3)],\n",
       " 10: [(4, 6), (5, 5), (6, 4)],\n",
       " 11: [(5, 6), (6, 5)],\n",
       " 12: [(6, 6)]}"
      ]
     },
     "execution_count": 59,
     "metadata": {},
     "output_type": "execute_result"
    }
   ],
   "source": [
    "def de():\n",
    "    dict = {}\n",
    "    \n",
    "    for i in range(1,7):\n",
    "        for j in range (1,7):\n",
    "            if(not(i+j in dict)):\n",
    "                dict[i+j] = [ (i,j) ]\n",
    "            else:\n",
    "                dict[i+j].append( (i,j) )\n",
    "    return dict \n",
    "de()"
   ]
  },
  {
   "cell_type": "code",
   "execution_count": 69,
   "metadata": {},
   "outputs": [
    {
     "ename": "IndentationError",
     "evalue": "expected an indented block (<ipython-input-69-0fa576e9478c>, line 11)",
     "output_type": "error",
     "traceback": [
      "\u001b[1;36m  File \u001b[1;32m\"<ipython-input-69-0fa576e9478c>\"\u001b[1;36m, line \u001b[1;32m11\u001b[0m\n\u001b[1;33m    dict.update((l_quadru[v].nom + l_quadru[v].prenom) : (l_quadru[v].annee)\u001b[0m\n\u001b[1;37m    ^\u001b[0m\n\u001b[1;31mIndentationError\u001b[0m\u001b[1;31m:\u001b[0m expected an indented block\n"
     ]
    }
   ],
   "source": [
    "def pro(l_quadru):\n",
    "    dict ={}\n",
    "    for i in range(0, len(l_quadru)):\n",
    "        (nom,prenom,annee,profession) = l_quadru[i]\n",
    "        \n",
    "    for v in l_quadru:\n",
    "        (nom,prenom,annee,profession) = v\n",
    "        \n",
    "    for (nom,prenom,annee,profession) in l_quadru:\n",
    "        \n",
    "    dict.update((l_quadru[v].nom + l_quadru[v].prenom) : (l_quadru[v].annee)\n",
    "        \n",
    "\n",
    "        "
   ]
  },
  {
   "cell_type": "code",
   "execution_count": 70,
   "metadata": {},
   "outputs": [
    {
     "data": {
      "text/plain": [
       "97"
      ]
     },
     "execution_count": 70,
     "metadata": {},
     "output_type": "execute_result"
    }
   ],
   "source": [
    "ord(\"a\")"
   ]
  },
  {
   "cell_type": "code",
   "execution_count": 74,
   "metadata": {},
   "outputs": [
    {
     "data": {
      "text/plain": [
       "'R'"
      ]
     },
     "execution_count": 74,
     "metadata": {},
     "output_type": "execute_result"
    }
   ],
   "source": [
    "chr(82)"
   ]
  },
  {
   "cell_type": "code",
   "execution_count": 75,
   "metadata": {},
   "outputs": [],
   "source": [
    "#Exercice Premiere Classe"
   ]
  },
  {
   "cell_type": "code",
   "execution_count": 135,
   "metadata": {},
   "outputs": [],
   "source": [
    "class D:\n",
    "    def __init__(self,a,b=0):\n",
    "        self.a=a\n",
    "        self.b=b\n",
    "        \n",
    "        \n",
    "        \n",
    "    def __str__(self):\n",
    "        if self.b!=0:\n",
    "            r= \"p = \" + str(self.a) +\" + \"+ str(self.b) +\"e\"\n",
    "        else:\n",
    "            r= \"p = \" + str(self.a)\n",
    "        return r\n",
    "    \n",
    "    def get_a(self):\n",
    "        return self.a\n",
    "    \n",
    "    def get_b(self):\n",
    "        return self.b\n",
    "    \n",
    "    def __add__(self, D2):\n",
    "        if isinstance(D2,D):\n",
    "            return D(self.a+D2.a,self.b+D2.b)\n",
    "        else:\n",
    "            return D(self.a+D2,self.b)\n",
    "    \n",
    "    def __minus__(self, D2):\n",
    "        if isinstance(D2,D):\n",
    "            return D(self.a-D2.a,self.b-D2.b)\n",
    "        else:\n",
    "            return D(self.a-D2,self.b)\n",
    "        \n",
    "    def __multiply__(self, D2):\n",
    "        if isinstance(D2,D):\n",
    "            return D(self.a*D2.a,self.a*D2.b+self.b*D2.a)\n",
    "        else:\n",
    "            return D(self.a*D2,self.b)\n",
    "    \n",
    "    def __divise__(self, D2):\n",
    "        if isinstance(D2,D):\n",
    "            return D((self.a*D2.a)/(D2.a**2),(self.a*(-D2.b)+self.b*D2.a)/(D2.a**2))\n",
    "        else:\n",
    "            return D(self.a/D2,self.b)\n",
    "        \n",
    "        "
   ]
  },
  {
   "cell_type": "code",
   "execution_count": 143,
   "metadata": {},
   "outputs": [],
   "source": [
    "turk_test = D(100,12)"
   ]
  },
  {
   "cell_type": "code",
   "execution_count": 144,
   "metadata": {},
   "outputs": [
    {
     "name": "stdout",
     "output_type": "stream",
     "text": [
      "p = 100 + 12e\n"
     ]
    }
   ],
   "source": [
    "print(turk_test)"
   ]
  },
  {
   "cell_type": "code",
   "execution_count": 145,
   "metadata": {},
   "outputs": [
    {
     "name": "stdout",
     "output_type": "stream",
     "text": [
      "p = 900 + 408e\n"
     ]
    }
   ],
   "source": [
    "greek_test= D(9,3)\n",
    "print(turk_test.__multiply__(greek_test))"
   ]
  },
  {
   "cell_type": "code",
   "execution_count": 146,
   "metadata": {},
   "outputs": [
    {
     "name": "stdout",
     "output_type": "stream",
     "text": [
      "p = 11.11111111111111 + -2.3703703703703702e\n"
     ]
    }
   ],
   "source": [
    "print(turk_test.__divise__(greek_test))"
   ]
  },
  {
   "cell_type": "code",
   "execution_count": 142,
   "metadata": {},
   "outputs": [
    {
     "name": "stdout",
     "output_type": "stream",
     "text": [
      "p = 0\n"
     ]
    }
   ],
   "source": [
    "print((turk_test.__minus__(greek_test)).__add__(turk_test))"
   ]
  },
  {
   "cell_type": "code",
   "execution_count": 130,
   "metadata": {},
   "outputs": [
    {
     "data": {
      "text/plain": [
       "1000"
      ]
     },
     "execution_count": 130,
     "metadata": {},
     "output_type": "execute_result"
    }
   ],
   "source": [
    "10**3"
   ]
  },
  {
   "cell_type": "code",
   "execution_count": 147,
   "metadata": {},
   "outputs": [],
   "source": [
    "#Exercice 2 "
   ]
  },
  {
   "cell_type": "code",
   "execution_count": 149,
   "metadata": {},
   "outputs": [],
   "source": [
    "class Livre:\n",
    "    def __init__(self,title,author,format,status):\n",
    "        self.title=title\n",
    "        self.author=author\n",
    "        self.format=format\n",
    "        self.status=status\n",
    "\n",
    "    def __str__(self):\n",
    "        return \"Le livre \"+self.title+\" de \"+self.author+\" est au format \"+self.format+\" et est \"+self.status\n",
    "    \n"
   ]
  },
  {
   "cell_type": "code",
   "execution_count": 150,
   "metadata": {},
   "outputs": [],
   "source": [
    "livre1 = Livre(\"Livre 1\", \"Auteur 1\", \"Format 1\", \"Disponible\")\n",
    "livre2 = Livre(\"Livre 2\", \"Auteur 2\", \"Format 2\", \"Emprunté\")\n",
    "livre3 = Livre(\"Livre 3\", \"Auteur 3\", \"Format 1\", \"Disponible\")\n",
    "livre4 = Livre(\"Livre 4\", \"Auteur 2\", \"Format 3\", \"Disponible\")\n",
    "livre5 = Livre(\"Livre 5\", \"Auteur 1\", \"Format 2\", \"Emprunté\")\n"
   ]
  },
  {
   "cell_type": "code",
   "execution_count": 151,
   "metadata": {},
   "outputs": [
    {
     "name": "stdout",
     "output_type": "stream",
     "text": [
      "Le livre Livre 1 de Auteur 1 est au format Format 1 et est Disponible\n"
     ]
    }
   ],
   "source": [
    "print(livre1)"
   ]
  },
  {
   "cell_type": "code",
   "execution_count": null,
   "metadata": {},
   "outputs": [],
   "source": []
  }
 ],
 "metadata": {
  "kernelspec": {
   "display_name": "Python 3 (ipykernel)",
   "language": "python",
   "name": "python3"
  },
  "language_info": {
   "codemirror_mode": {
    "name": "ipython",
    "version": 3
   },
   "file_extension": ".py",
   "mimetype": "text/x-python",
   "name": "python",
   "nbconvert_exporter": "python",
   "pygments_lexer": "ipython3",
   "version": "3.8.3"
  }
 },
 "nbformat": 4,
 "nbformat_minor": 4
}
