{
 "cells": [
  {
   "cell_type": "code",
   "execution_count": 5,
   "metadata": {},
   "outputs": [],
   "source": [
    "#Test Python \n",
    "#SAUNDERS Gabriel"
   ]
  },
  {
   "cell_type": "code",
   "execution_count": 29,
   "metadata": {},
   "outputs": [],
   "source": [
    "# Exercice 1"
   ]
  },
  {
   "cell_type": "code",
   "execution_count": 30,
   "metadata": {},
   "outputs": [],
   "source": [
    "def exempleReseau():\n",
    "    dict = {\"Jean\":[\"Ali\"], \"David\":[], \"Ali\":[\"Jean\"]}\n",
    "    return dict"
   ]
  },
  {
   "cell_type": "code",
   "execution_count": 31,
   "metadata": {},
   "outputs": [
    {
     "data": {
      "text/plain": [
       "{'Jean': ['Ali'], 'David': [], 'Ali': ['Jean']}"
      ]
     },
     "execution_count": 31,
     "metadata": {},
     "output_type": "execute_result"
    }
   ],
   "source": [
    "#1 \n",
    "\n",
    "exempleReseau()"
   ]
  },
  {
   "cell_type": "code",
   "execution_count": 47,
   "metadata": {},
   "outputs": [],
   "source": [
    "\n",
    "def adduser(d, user):\n",
    "    d.update({\"Marie\":[]})\n",
    "    return d"
   ]
  },
  {
   "cell_type": "code",
   "execution_count": 48,
   "metadata": {},
   "outputs": [
    {
     "data": {
      "text/plain": [
       "{'Jean': ['Ali'], 'David': [], 'Ali': ['Jean'], 'Marie': []}"
      ]
     },
     "execution_count": 48,
     "metadata": {},
     "output_type": "execute_result"
    }
   ],
   "source": [
    "dict = {\"Jean\":[\"Ali\"], \"David\":[], \"Ali\":[\"Jean\"]}\n",
    "adduser(dict, \"Marie\")"
   ]
  },
  {
   "cell_type": "code",
   "execution_count": 86,
   "metadata": {},
   "outputs": [],
   "source": [
    "\n",
    "def addlink(d, user1, user2):\n",
    "    if user1 not in d:\n",
    "        adduser(d, user1)\n",
    "    elif user2 not in d:\n",
    "        adduser(d, user2)\n",
    "    d.append({user1:user2})\n",
    "    d.append({user2:user1})\n",
    "    "
   ]
  },
  {
   "cell_type": "code",
   "execution_count": 87,
   "metadata": {},
   "outputs": [
    {
     "ename": "AttributeError",
     "evalue": "'dict' object has no attribute 'append'",
     "output_type": "error",
     "traceback": [
      "\u001b[1;31m---------------------------------------------------------------------------\u001b[0m",
      "\u001b[1;31mAttributeError\u001b[0m                            Traceback (most recent call last)",
      "Cell \u001b[1;32mIn[87], line 2\u001b[0m\n\u001b[0;32m      1\u001b[0m \u001b[38;5;28mdict\u001b[39m \u001b[38;5;241m=\u001b[39m {\u001b[38;5;124m\"\u001b[39m\u001b[38;5;124mJean\u001b[39m\u001b[38;5;124m\"\u001b[39m:[\u001b[38;5;124m\"\u001b[39m\u001b[38;5;124mAli\u001b[39m\u001b[38;5;124m\"\u001b[39m], \u001b[38;5;124m\"\u001b[39m\u001b[38;5;124mDavid\u001b[39m\u001b[38;5;124m\"\u001b[39m:[], \u001b[38;5;124m\"\u001b[39m\u001b[38;5;124mAli\u001b[39m\u001b[38;5;124m\"\u001b[39m:[\u001b[38;5;124m\"\u001b[39m\u001b[38;5;124mJean\u001b[39m\u001b[38;5;124m\"\u001b[39m]}\n\u001b[1;32m----> 2\u001b[0m \u001b[43maddlink\u001b[49m\u001b[43m(\u001b[49m\u001b[38;5;28;43mdict\u001b[39;49m\u001b[43m,\u001b[49m\u001b[43m \u001b[49m\u001b[38;5;124;43m\"\u001b[39;49m\u001b[38;5;124;43mJohn\u001b[39;49m\u001b[38;5;124;43m\"\u001b[39;49m\u001b[43m,\u001b[49m\u001b[43m \u001b[49m\u001b[38;5;124;43m\"\u001b[39;49m\u001b[38;5;124;43mMarie\u001b[39;49m\u001b[38;5;124;43m\"\u001b[39;49m\u001b[43m)\u001b[49m\n",
      "Cell \u001b[1;32mIn[86], line 6\u001b[0m, in \u001b[0;36maddlink\u001b[1;34m(d, user1, user2)\u001b[0m\n\u001b[0;32m      4\u001b[0m \u001b[38;5;28;01melif\u001b[39;00m user2 \u001b[38;5;129;01mnot\u001b[39;00m \u001b[38;5;129;01min\u001b[39;00m d:\n\u001b[0;32m      5\u001b[0m     adduser(d, user2)\n\u001b[1;32m----> 6\u001b[0m \u001b[43md\u001b[49m\u001b[38;5;241;43m.\u001b[39;49m\u001b[43mappend\u001b[49m({user1:user2})\n\u001b[0;32m      7\u001b[0m d\u001b[38;5;241m.\u001b[39mappend({user2:user1})\n",
      "\u001b[1;31mAttributeError\u001b[0m: 'dict' object has no attribute 'append'"
     ]
    }
   ],
   "source": [
    "dict = {\"Jean\":[\"Ali\"], \"David\":[], \"Ali\":[\"Jean\"]}\n",
    "addlink(dict, \"John\", \"Marie\")"
   ]
  },
  {
   "cell_type": "code",
   "execution_count": 17,
   "metadata": {},
   "outputs": [],
   "source": [
    "# Exercice 2 "
   ]
  },
  {
   "cell_type": "code",
   "execution_count": 60,
   "metadata": {},
   "outputs": [],
   "source": [
    "def isfriend(d, user1, user2):\n",
    "    if user 2 in d[user1]:\n",
    "        return True\n",
    "    else:\n",
    "        return False"
   ]
  },
  {
   "cell_type": "code",
   "execution_count": 63,
   "metadata": {},
   "outputs": [
    {
     "data": {
      "text/plain": [
       "True"
      ]
     },
     "execution_count": 63,
     "metadata": {},
     "output_type": "execute_result"
    }
   ],
   "source": [
    "isfriend(dict, \"Jean\", \"Ali\")\n"
   ]
  },
  {
   "cell_type": "code",
   "execution_count": 66,
   "metadata": {},
   "outputs": [
    {
     "data": {
      "text/plain": [
       "False"
      ]
     },
     "execution_count": 66,
     "metadata": {},
     "output_type": "execute_result"
    }
   ],
   "source": [
    "isfriend(dict, \"Jean\", \"Jodidie\")\n"
   ]
  },
  {
   "cell_type": "code",
   "execution_count": 84,
   "metadata": {},
   "outputs": [],
   "source": [
    "def mostfriends(d):\n",
    "    indice=0\n",
    "    plusAmis=0\n",
    "    for i in d.keys():\n",
    "        if len(d.get(i))>plusAmis:\n",
    "            plusAmis = len(d.get(i))\n",
    "            indice = i \n",
    "    return indice\n",
    "        "
   ]
  },
  {
   "cell_type": "code",
   "execution_count": 85,
   "metadata": {},
   "outputs": [
    {
     "data": {
      "text/plain": [
       "'Jean'"
      ]
     },
     "execution_count": 85,
     "metadata": {},
     "output_type": "execute_result"
    }
   ],
   "source": [
    "mostfriends(dict)"
   ]
  },
  {
   "cell_type": "code",
   "execution_count": 93,
   "metadata": {},
   "outputs": [
    {
     "name": "stdout",
     "output_type": "stream",
     "text": [
      "id : 23, nom : John, prenom : Pork\n",
      "id : 23, nom : Joahn\n"
     ]
    }
   ],
   "source": [
    "class Personne: \n",
    "    def __init__(self,identifiant, nom=\"\", prenom=\"\"):\n",
    "        self.identifiant= identifiant \n",
    "        self.nom = nom\n",
    "        self.prenom = prenom\n",
    "        \n",
    "    def __str__(self): \n",
    "        r= \"id : \"+ str(self.identifiant)\n",
    "        if self.nom != \"\":\n",
    "            r= r+ \", nom : \"+self.nom\n",
    "        if self.prenom != \"\":\n",
    "            r= r+\", prenom : \" + self.prenom\n",
    "        return r\n",
    "\n",
    "John = Personne(23,\"John\", \"Pork\")\n",
    "print(John)\n",
    "Joahn = Personne(23,\"Joahn\")\n",
    "print(Joahn)\n",
    "        "
   ]
  },
  {
   "cell_type": "code",
   "execution_count": 106,
   "metadata": {},
   "outputs": [],
   "source": [
    "class ReseauSoc:\n",
    "    def __init__(self, people, links):\n",
    "        self.people = people\n",
    "        self.links = links\n",
    "        \n",
    "    def __str__(self):\n",
    "        r =\"Personnes dans le réseaux : \"\n",
    "        for i in self.people:\n",
    "            r=r + self.people[i] + \", id :\"+i+\", \"\n",
    "        r=r+ \". Liens entre les personnes du reseaux: \"\n",
    "        for i in self.links:\n",
    "            r=r+self.links[i]+\", \"\n",
    "    \n",
    "    def __addUser__(self, Personne):\n",
    "        self.people.append(Personne)\n",
    "    \n",
    "    def __addLink__(self, lien):\n",
    "        self.links.append(lien)\n",
    "        \n",
    "    def getMostFriends(self):\n",
    "        #comparer les tuples \"links\" ex : (1,0), (1,2), (2,1)  signifie que la personne a l'indice 1 de la liste de Personnes \n",
    "        #a le plus d'amis "
   ]
  },
  {
   "cell_type": "code",
   "execution_count": 107,
   "metadata": {},
   "outputs": [],
   "source": [
    "gens = [John, Joahn]\n",
    "liens = [(0,1),(1,0)]\n",
    "Reseau = ReseauSoc(gens,liens)"
   ]
  },
  {
   "cell_type": "code",
   "execution_count": 108,
   "metadata": {},
   "outputs": [
    {
     "ename": "TypeError",
     "evalue": "list indices must be integers or slices, not Personne",
     "output_type": "error",
     "traceback": [
      "\u001b[1;31m---------------------------------------------------------------------------\u001b[0m",
      "\u001b[1;31mTypeError\u001b[0m                                 Traceback (most recent call last)",
      "Cell \u001b[1;32mIn[108], line 1\u001b[0m\n\u001b[1;32m----> 1\u001b[0m \u001b[38;5;28;43mprint\u001b[39;49m\u001b[43m(\u001b[49m\u001b[43mReseau\u001b[49m\u001b[43m)\u001b[49m\n",
      "Cell \u001b[1;32mIn[106], line 9\u001b[0m, in \u001b[0;36mReseauSoc.__str__\u001b[1;34m(self)\u001b[0m\n\u001b[0;32m      7\u001b[0m r \u001b[38;5;241m=\u001b[39m\u001b[38;5;124m\"\u001b[39m\u001b[38;5;124mPersonnes dans le réseaux : \u001b[39m\u001b[38;5;124m\"\u001b[39m\n\u001b[0;32m      8\u001b[0m \u001b[38;5;28;01mfor\u001b[39;00m i \u001b[38;5;129;01min\u001b[39;00m \u001b[38;5;28mself\u001b[39m\u001b[38;5;241m.\u001b[39mpeople:\n\u001b[1;32m----> 9\u001b[0m     r\u001b[38;5;241m=\u001b[39mr \u001b[38;5;241m+\u001b[39m \u001b[38;5;28;43mself\u001b[39;49m\u001b[38;5;241;43m.\u001b[39;49m\u001b[43mpeople\u001b[49m\u001b[43m[\u001b[49m\u001b[43mi\u001b[49m\u001b[43m]\u001b[49m \u001b[38;5;241m+\u001b[39m \u001b[38;5;124m\"\u001b[39m\u001b[38;5;124m, id :\u001b[39m\u001b[38;5;124m\"\u001b[39m\u001b[38;5;241m+\u001b[39mi\u001b[38;5;241m+\u001b[39m\u001b[38;5;124m\"\u001b[39m\u001b[38;5;124m, \u001b[39m\u001b[38;5;124m\"\u001b[39m\n\u001b[0;32m     10\u001b[0m r\u001b[38;5;241m=\u001b[39mr\u001b[38;5;241m+\u001b[39m \u001b[38;5;124m\"\u001b[39m\u001b[38;5;124m. Liens entre les personnes du reseaux: \u001b[39m\u001b[38;5;124m\"\u001b[39m\n\u001b[0;32m     11\u001b[0m \u001b[38;5;28;01mfor\u001b[39;00m i \u001b[38;5;129;01min\u001b[39;00m \u001b[38;5;28mself\u001b[39m\u001b[38;5;241m.\u001b[39mlinks:\n",
      "\u001b[1;31mTypeError\u001b[0m: list indices must be integers or slices, not Personne"
     ]
    }
   ],
   "source": [
    "print(Reseau)"
   ]
  },
  {
   "cell_type": "code",
   "execution_count": null,
   "metadata": {},
   "outputs": [],
   "source": []
  }
 ],
 "metadata": {
  "kernelspec": {
   "display_name": "Python 3 (ipykernel)",
   "language": "python",
   "name": "python3"
  },
  "language_info": {
   "codemirror_mode": {
    "name": "ipython",
    "version": 3
   },
   "file_extension": ".py",
   "mimetype": "text/x-python",
   "name": "python",
   "nbconvert_exporter": "python",
   "pygments_lexer": "ipython3",
   "version": "3.8.3"
  }
 },
 "nbformat": 4,
 "nbformat_minor": 4
}
